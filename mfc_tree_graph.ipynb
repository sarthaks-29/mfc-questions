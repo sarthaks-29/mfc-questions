{
 "cells": [
  {
   "cell_type": "markdown",
   "id": "f5a1e39d",
   "metadata": {},
   "source": [
    "1.Write a code to find the degree of each vertex, and store it in a dictionary. Sort the keys of the dictionary by the degree stored in the values."
   ]
  },
  {
   "cell_type": "code",
   "execution_count": 2,
   "id": "270e0d9f",
   "metadata": {},
   "outputs": [],
   "source": [
    "def get_degrees_and_sorted_vertices(graph):\n",
    "    degree = {}\n",
    "    for vertex in graph:\n",
    "        degree[vertex] = len(graph[vertex])\n",
    "    vertices = list(degree.keys())\n",
    "    n = len(vertices)\n",
    "    for i in range(n):\n",
    "        for j in range(0, n - i - 1):\n",
    "            if degree[vertices[j]] > degree[vertices[j + 1]]:\n",
    "                vertices[j], vertices[j + 1] = vertices[j + 1], vertices[j]\n",
    "    return degree, vertices\n"
   ]
  },
  {
   "cell_type": "markdown",
   "id": "0a816233",
   "metadata": {},
   "source": [
    "2.Write a code to inter-convert the 3 graph representations we have learnt\n"
   ]
  },
  {
   "cell_type": "code",
   "execution_count": 4,
   "id": "cd7e3dae",
   "metadata": {},
   "outputs": [],
   "source": [
    "def interconvertible():\n",
    "    def al_to_el(adjacency_list,lst):\n",
    "        edge_list=[]\n",
    "        for key,value in adjacency_list.items():\n",
    "            for v in value:\n",
    "                edge_list.append((key,v))\n",
    "        return edge_list\n",
    "    def el_to_al(edge_list,lst):\n",
    "        adjacency_list={}\n",
    "        for edge in edge_list:\n",
    "            if edge[0] not in adjacency_list:\n",
    "                adjacency_list[edge[0]]=[edge[1]]\n",
    "            else:\n",
    "                adjacency_list[edge[0]].append(edge[1])\n",
    "        return adjacency_list\n",
    "    def al_to_am(adjacency_list,lst):\n",
    "        am=[[0]*len(adjacency_list) for i in range(len(adjacency_list))]\n",
    "        for key,value in adjacency_list.items():\n",
    "            for v in value:\n",
    "                am[lst.index(key)][lst.index(v)]=1\n",
    "        return am"
   ]
  },
  {
   "cell_type": "markdown",
   "id": "3479e851",
   "metadata": {},
   "source": [
    "3.Given a graph and two vertices, check if they are adjacent"
   ]
  },
  {
   "cell_type": "code",
   "execution_count": null,
   "id": "a5ba58bd",
   "metadata": {},
   "outputs": [],
   "source": [
    "def check_adjacency_of_vertices(am, v1, v2):\n",
    "    if am[v1][v2] == 1 or am[v2][v1] == 1:\n",
    "        return True\n",
    "    else:\n",
    "        return False\n",
    "    "
   ]
  },
  {
   "cell_type": "markdown",
   "id": "55429584",
   "metadata": {},
   "source": [
    "4.Check if a graph is complete"
   ]
  },
  {
   "cell_type": "code",
   "execution_count": null,
   "id": "9cb88bdc",
   "metadata": {},
   "outputs": [],
   "source": [
    "def complete_graph(al):\n",
    "    n=len(al)\n",
    "    for vertex in al:\n",
    "        if len(al[vertex]) != n-1:\n",
    "            return False\n",
    "    return True"
   ]
  },
  {
   "cell_type": "markdown",
   "id": "5e16eed1",
   "metadata": {},
   "source": [
    "5.Check if a graph is connected"
   ]
  },
  {
   "cell_type": "code",
   "execution_count": null,
   "id": "dd6ccb48",
   "metadata": {},
   "outputs": [],
   "source": [
    "def is_connected(graph):\n",
    "    visited = set()\n",
    "    \n",
    "    def dfs(node):\n",
    "        if node not in visited:\n",
    "            visited.add(node)\n",
    "            for neighbor in graph.get(node, []):\n",
    "                dfs(neighbor)\n",
    "    start_node = next(iter(graph))\n",
    "    dfs(start_node)\n",
    "    return len(visited) == len(graph)\n",
    "\n"
   ]
  },
  {
   "cell_type": "markdown",
   "id": "2d26d3fa",
   "metadata": {},
   "source": [
    "6.Given a graph and a list of vertices, check if it forms a walk, or a trail or a path or none of these"
   ]
  },
  {
   "cell_type": "code",
   "execution_count": null,
   "id": "8166bc0a",
   "metadata": {},
   "outputs": [],
   "source": [
    "def walk_trail_path(al, vertex_list):\n",
    "    for i in range(len(vertex_list) - 1):\n",
    "        u, v = vertex_list[i], vertex_list[i + 1]\n",
    "        if v not in al.get(u, []):\n",
    "            return \"Not a walk\"\n",
    "    edge_set = set()\n",
    "    for i in range(len(vertex_list) - 1):\n",
    "        u, v = vertex_list[i], vertex_list[i + 1]\n",
    "        edge = tuple(sorted((u, v))) \n",
    "        if edge in edge_set:\n",
    "            return \"Walk\"\n",
    "        edge_set.add(edge)\n",
    "    if len(set(vertex_list)) == len(vertex_list):\n",
    "        return \"Path\"\n",
    "    else:\n",
    "        return \"Trail\""
   ]
  },
  {
   "cell_type": "markdown",
   "id": "fd243198",
   "metadata": {},
   "source": [
    "7.Check if a given graph is a tree"
   ]
  },
  {
   "cell_type": "code",
   "execution_count": null,
   "id": "13cb3ab5",
   "metadata": {},
   "outputs": [],
   "source": [
    "def is_tree(al):\n",
    "    visited = set()\n",
    "    def dfs(node, parent):\n",
    "        visited.add(node)\n",
    "        for neighbor in al[node]:\n",
    "            if neighbor not in visited:\n",
    "                if not dfs(neighbor, node):\n",
    "                    return False\n",
    "            elif neighbor != parent:\n",
    "                return False  \n",
    "        return True\n",
    "    start_node = next(iter(al))\n",
    "    if not dfs(start_node, None):\n",
    "        return False\n",
    "    if len(visited) != len(al):\n",
    "        return False\n",
    "    return True\n"
   ]
  },
  {
   "cell_type": "markdown",
   "id": "34d21c9c",
   "metadata": {},
   "source": [
    "8.Given a connected cyclic graph, find its spanning tree"
   ]
  },
  {
   "cell_type": "code",
   "execution_count": null,
   "id": "09576d98",
   "metadata": {},
   "outputs": [],
   "source": [
    "def find_spanning_tree(al):\n",
    "    visited = set()\n",
    "    spanning_tree = {}\n",
    "\n",
    "    def dfs(node, parent):\n",
    "        visited.add(node)\n",
    "        for neighbor in al[node]:\n",
    "            if neighbor not in visited:\n",
    "                if node not in spanning_tree:\n",
    "                    spanning_tree[node] = []\n",
    "                spanning_tree[node].append(neighbor)\n",
    "                if neighbor not in spanning_tree:\n",
    "                    spanning_tree[neighbor] = []\n",
    "                spanning_tree[neighbor].append(node)\n",
    "                dfs(neighbor, node)\n",
    "    start_node = next(iter(al))\n",
    "    dfs(start_node, None)\n",
    "    return spanning_tree\n"
   ]
  },
  {
   "cell_type": "markdown",
   "id": "f6449ce2",
   "metadata": {},
   "source": [
    "9.Given a tree, find the number of leaf nodes."
   ]
  },
  {
   "cell_type": "code",
   "execution_count": null,
   "id": "9c1978b8",
   "metadata": {},
   "outputs": [],
   "source": [
    "def count_leaf_nodes(tree):\n",
    "    if len(tree) == 1:\n",
    "        return 1  \n",
    "    count = 0\n",
    "    for node in tree:\n",
    "        if len(tree[node]) == 1:\n",
    "            count += 1\n",
    "    return count\n"
   ]
  },
  {
   "cell_type": "markdown",
   "id": "6559af10",
   "metadata": {},
   "source": [
    "10.Given a tree, check if it's a binary tree."
   ]
  },
  {
   "cell_type": "code",
   "execution_count": null,
   "id": "9d6d6ffd",
   "metadata": {},
   "outputs": [],
   "source": [
    "def binary_tree(tree):\n",
    "    if len(tree) == 1:\n",
    "        return True  \n",
    "    for node in tree:\n",
    "        if len(tree[node]) > 2:\n",
    "            return False\n",
    "    return True"
   ]
  },
  {
   "cell_type": "markdown",
   "id": "8b31c2cc",
   "metadata": {},
   "source": [
    "11.Given a tree and a node, find its height.\n"
   ]
  },
  {
   "cell_type": "code",
   "execution_count": null,
   "id": "4eb0b54d",
   "metadata": {},
   "outputs": [],
   "source": [
    "def find_height(al, node):\n",
    "    if node not in al or not al[node]:\n",
    "        return 0\n",
    "    heights = [find_height(al, child) for child in al[node]]\n",
    "    return 1 + max(heights)\n"
   ]
  },
  {
   "cell_type": "markdown",
   "id": "e24c243c",
   "metadata": {},
   "source": [
    "12.Given a tree and a node, find its depth"
   ]
  },
  {
   "cell_type": "code",
   "execution_count": null,
   "id": "977ca26e",
   "metadata": {},
   "outputs": [],
   "source": [
    "def find_depth(al, node, current_depth=0):\n",
    "    if node not in al:\n",
    "        return -1  \n",
    "    if node == list(al.keys())[0]:\n",
    "        return current_depth\n",
    "    for parent, children in al.items():\n",
    "        if node in children:\n",
    "            return find_depth(al, parent, current_depth + 1)\n",
    "    return -1  \n"
   ]
  }
 ],
 "metadata": {
  "kernelspec": {
   "display_name": "Python 3",
   "language": "python",
   "name": "python3"
  },
  "language_info": {
   "codemirror_mode": {
    "name": "ipython",
    "version": 3
   },
   "file_extension": ".py",
   "mimetype": "text/x-python",
   "name": "python",
   "nbconvert_exporter": "python",
   "pygments_lexer": "ipython3",
   "version": "3.12.3"
  }
 },
 "nbformat": 4,
 "nbformat_minor": 5
}
